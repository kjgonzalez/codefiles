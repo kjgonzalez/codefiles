{
 "cells": [
  {
   "cell_type": "code",
   "execution_count": 12,
   "metadata": {},
   "outputs": [
    {
     "name": "stdout",
     "output_type": "stream",
     "text": [
      "map created\n",
      "start / end points created\n",
      "adjacency list created\n"
     ]
    },
    {
     "data": {
      "text/plain": [
       "(<Figure size 288x288 with 1 Axes>,\n",
       " <matplotlib.axes._subplots.AxesSubplot at 0x15c6190>)"
      ]
     },
     "execution_count": 12,
     "metadata": {},
     "output_type": "execute_result"
    },
    {
     "data": {
      "image/png": "[encoded data removed]",
      "text/plain": [
       "<Figure size 288x288 with 1 Axes>"
      ]
     },
     "metadata": {
      "needs_background": "light"
     },
     "output_type": "display_data"
    }
   ],
   "source": [
    "''' \n",
    "objective 190811: work on creating a depth-first search and breadth-first search \n",
    "    example here, then transferring back to a python script. using jupyter \n",
    "    notebook because of it's rapid prototyping capability\n",
    "\n",
    "objective 190814: work on creating iterative deepening search\n",
    "objective 190814: work on heuristic search, starting with A*\n",
    "\n",
    "random maze generator: https://keesiemeijer.github.io/maze-generator/\n",
    "'''\n",
    "\n",
    "import numpy as np\n",
    "import matplotlib.pyplot as plt\n",
    "import time\n",
    "import PIL.Image as pil\n",
    "# setup functions\n",
    "def plotgrid(gridarr,start,end,fsize=4):\n",
    "    ''' ensure that plot comes out nicely formatted '''\n",
    "    nrows,ncols = gridarr.shape    \n",
    "    f,p=plt.subplots(figsize=[fsize]*2)\n",
    "    p.imshow(gridarr,cmap='gray')\n",
    "    xticks=np.arange(0,ncols+1)-0.5\n",
    "    yticks=np.arange(0,nrows+1)-0.5\n",
    "    xlims=[xticks.min(),xticks.max()]\n",
    "    ylims=[yticks.min(),yticks.max()]\n",
    "    p.set_xticks(xticks,minor=True)\n",
    "    p.set_yticks(yticks,minor=True)\n",
    "    p.grid(b=True,which='minor')\n",
    "    p.plot(*start[::-1],'ro')\n",
    "    p.plot(*end[::-1],'rx')\n",
    "    return f,p\n",
    "def plotans(ax,anspath,ansgrid,color=[0,1,0]):\n",
    "    w=ansgrid.shape[1]\n",
    "    coords = np.array(path2coords(anspath,w))\n",
    "    x=coords[:,1]\n",
    "    y=coords[:,0]\n",
    "    ax.plot(x,y,color=color)\n",
    "def canGoInDir(arr,coord,direction):\n",
    "    ''' \n",
    "    create a map that says whether a point can go in a given direction. \n",
    "        alternative to making a tree in the typical sense. \n",
    "        only works with orthogonal directions (no diagonals coded here)\n",
    "    '''\n",
    "    row,col=coord\n",
    "    if(direction==0):\n",
    "        # check if can go 'up'\n",
    "        if(row==0): return False # at top row\n",
    "        elif(arr[row-1,col]==0): return False # occupied\n",
    "        else: return True\n",
    "    elif(direction==1): \n",
    "        # check if can go 'right'\n",
    "        if(col==arr.shape[1]-1): return False # at right-most column\n",
    "        elif(arr[row,col+1]==0): return False # occupied\n",
    "        else: return True\n",
    "    elif(direction==2): \n",
    "        # check if can go 'down'\n",
    "        if(row==arr.shape[0]-1): return False # at bottom row\n",
    "        elif(arr[row+1,col]==0): return False # occupied\n",
    "        else: return True\n",
    "    elif(direction==3):\n",
    "        # check if can go 'left'\n",
    "        if(col==0): return False # at left-most column \n",
    "        elif(arr[row,col-1]==0): return False # occupied\n",
    "        else: return True\n",
    "    else: print('error: not a valid direction')\n",
    "\n",
    "def coord2cellnum(coord,gridwidth):\n",
    "    ''' assume coordinate is (row,col) '''\n",
    "    return coord[0]*gridwidth+coord[1]\n",
    "def cellnum2coord(num,gridwidth):\n",
    "    i=1\n",
    "    while(i*gridwidth<=num):i+=1\n",
    "    i-=1\n",
    "    return [i,num-i*gridwidth]\n",
    "def makeAdjList(arr):\n",
    "    ''' create adjacency list '''\n",
    "    adjList = dict()\n",
    "    w=arr.shape[1]\n",
    "    for i,irow in enumerate(arr):\n",
    "        for j,jcol in enumerate(irow):\n",
    "            if(arr[i,j]!=0):\n",
    "                # not empty\n",
    "                ilist = []\n",
    "                if(canGoInDir(arr,[i,j],0)): ilist.append((i-1)*w+j) # can go up\n",
    "                if(canGoInDir(arr,[i,j],1)): ilist.append(i*w+(j+1)) # right\n",
    "                if(canGoInDir(arr,[i,j],2)): ilist.append((i+1)*w+j) # down\n",
    "                if(canGoInDir(arr,[i,j],3)): ilist.append(i*w+(j-1)) # left\n",
    "                cellNo = int(i*arr.shape[1]+j)\n",
    "                adjList[cellNo] = ilist\n",
    "    return adjList\n",
    "def path2coords(pathlist,gridwidth):\n",
    "    w=gridwidth;coords = []\n",
    "    for ipoint in pathlist:\n",
    "        coords.append( cellnum2coord(ipoint,w) )\n",
    "    return coords\n",
    "\n",
    "''' create a desired map and generate accompanying adjacency list '''\n",
    "\n",
    "# grid 4 (dungeon problem grid)\n",
    "grid = np.ones((5,7))\n",
    "grid[0,3]=0\n",
    "grid[1,1]=0\n",
    "grid[1,5]=0\n",
    "grid[2,1]=0\n",
    "grid[3,2]=0\n",
    "grid[3,3]=0\n",
    "grid[4,0]=0\n",
    "grid[4,2]=0\n",
    "grid[4,5]=0\n",
    "loc_start=[0,0]\n",
    "loc_end  =[4,3] # row/col format\n",
    "\n",
    "print('map created')\n",
    "\n",
    "w=grid.shape[1]\n",
    "st = coord2cellnum(loc_start,w)\n",
    "en = coord2cellnum(loc_end,w)\n",
    "print('start / end points created')\n",
    "\n",
    "adj=makeAdjList(grid)\n",
    "print('adjacency list created')\n",
    "plotgrid(grid,loc_start,loc_end)"
   ]
  },
  {
   "cell_type": "code",
   "execution_count": 2,
   "metadata": {},
   "outputs": [],
   "source": [
    "''' bfs implementation '''\n",
    "# version1: just see if you can find a solution\n",
    "\n",
    "def bfs(_adjlist,options,goal,history=None,oldoptions=None):\n",
    "    ''' simple attempt at bfs. added \"history\" to properly keep track of where things have been \n",
    "    INPUTS: \n",
    "        * _adjlist: adjacency list. essentially a list of new available paths\n",
    "        * options: starting location. internally, list of current options\n",
    "        * goal: end point to reach.\n",
    "    '''\n",
    "    if(type(options)!=list):\n",
    "        # first iteration\n",
    "        history=[options] # prevent infinite loops\n",
    "        options=[options] # aka current location\n",
    "    else:\n",
    "        history+=options\n",
    "    newoptions=[]\n",
    "    prevoptions=[]\n",
    "    for i,ioption in enumerate(options): # for each currently known option...\n",
    "        if(ioption==goal):\n",
    "            return [ioption] # return solution\n",
    "        # while generating new paths, remember old ones\n",
    "        for inew in _adjlist[ioption]:\n",
    "            if(inew not in history):\n",
    "                newoptions.append(inew)\n",
    "                prevoptions.append(ioption)\n",
    "    if(len(newoptions)>0):\n",
    "        # can continue\n",
    "        path = bfs(_adjlist,newoptions,goal,history.copy(),prevoptions.copy())\n",
    "        if(type(path)==list):\n",
    "            # if a solution is found, path represents correct item in newoptions\n",
    "            # finding the index of that option leads to the right previous option\n",
    "            iloc=newoptions.index(path[0])\n",
    "            path.insert(0,prevoptions[iloc])\n",
    "            return path\n",
    "    else:\n",
    "        return None\n"
   ]
  },
  {
   "cell_type": "code",
   "execution_count": 3,
   "metadata": {},
   "outputs": [
    {
     "name": "stdout",
     "output_type": "stream",
     "text": [
      "fail test: None\n",
      "--------\n",
      "success: [0, 1, 2, 9, 10, 11, 18, 25, 32, 31]\n"
     ]
    }
   ],
   "source": [
    "''' demonstrate two examples: a pass and a fail '''\n",
    "print('fail test:',bfs(adj,st,3))\n",
    "print('--------')\n",
    "print('success:',bfs(adj,st,en))"
   ]
  },
  {
   "cell_type": "code",
   "execution_count": 4,
   "metadata": {},
   "outputs": [],
   "source": [
    "''' dfs implementation '''\n",
    "\n",
    "def dfs(_adjlist,curr,goal,path=None,iter1=True):\n",
    "    ''' second attempt at more elegant dfs. remember: key is backtracking '''\n",
    "    if(type(path)==type(None)):\n",
    "        # first iteration\n",
    "        path=[]\n",
    "    path.append(curr)\n",
    "    if(curr == goal):\n",
    "        return path\n",
    "    res=None\n",
    "    for ioption in _adjlist[curr]:\n",
    "        if(ioption not in path):\n",
    "            # haven't explored this location yet\n",
    "            res = dfs(_adjlist,ioption,goal,path.copy(),iter1=False)\n",
    "            if(res!=None):\n",
    "                # have found something\n",
    "                return res\n",
    "    if(iter1):\n",
    "        return None"
   ]
  },
  {
   "cell_type": "code",
   "execution_count": 5,
   "metadata": {},
   "outputs": [
    {
     "name": "stdout",
     "output_type": "stream",
     "text": [
      "fail: None\n",
      "--------\n",
      "good: [0, 1, 2, 9, 10, 11, 4, 5, 6, 13, 20, 27, 26, 19, 18, 25, 32, 31]\n",
      "[0, 1, 2, 9, 10, 11, 4, 5, 6, 13, 20, 27, 26, 19, 18, 25, 32, 31]\n",
      "mms: 2228.4984588623047\n"
     ]
    },
    {
     "data": {
      "text/plain": [
       "[<matplotlib.lines.Line2D at 0xbd124d0>]"
      ]
     },
     "execution_count": 5,
     "metadata": {},
     "output_type": "execute_result"
    },
    {
     "data": {
      "image/png": "[encoded data removed]",
      "text/plain": [
       "<Figure size 288x288 with 1 Axes>"
      ]
     },
     "metadata": {
      "needs_background": "light"
     },
     "output_type": "display_data"
    }
   ],
   "source": [
    "print('fail:',dfs(adj,st,3))\n",
    "print('--------')\n",
    "print('good:',dfs(adj,st,en))\n",
    "# SUCCESS!!!\n",
    "\n",
    "t0=time.time()\n",
    "path = dfs(adj,st,31)\n",
    "print(path)\n",
    "print('mms:',(time.time()-t0)*1000000)\n",
    "\n",
    "coords=np.array(path2coords(path,grid.shape[1]))\n",
    "x=coords[:,1]\n",
    "y=coords[:,0]\n",
    "f,p=plotgrid(grid,loc_start,loc_end)\n",
    "\n",
    "p.plot(x,y,'g-')"
   ]
  },
  {
   "cell_type": "code",
   "execution_count": 6,
   "metadata": {},
   "outputs": [
    {
     "name": "stdout",
     "output_type": "stream",
     "text": [
      "fail (no find): -1\n",
      "--------\n",
      "good: [0, 1, 2, 9, 10, 11, 18, 25, 32, 31]\n",
      "[0, 1, 2, 9, 10, 11, 18, 25, 32, 31]\n"
     ]
    },
    {
     "data": {
      "image/png": "[encoded data removed]",
      "text/plain": [
       "<Figure size 288x288 with 1 Axes>"
      ]
     },
     "metadata": {
      "needs_background": "light"
     },
     "output_type": "display_data"
    }
   ],
   "source": [
    "''' at this point, wanna start iterative deepening \n",
    "1. \n",
    "'''\n",
    "def dfsB(_adjlist,curr,goal,depthlim=20,path=None,iter1=True,depthcount=0):\n",
    "    ''' second attempt at more elegant dfs. remember: key is backtracking '''\n",
    "    if(type(path)==type(None)):\n",
    "        # first iteration\n",
    "        path=[]\n",
    "    path.append(curr)\n",
    "    if(curr == goal):\n",
    "        return path\n",
    "    res=None\n",
    "    flag_dplim=False\n",
    "    if(depthcount>=depthlim):\n",
    "        return -2 # need to define different failure modes\n",
    "    for ioption in _adjlist[curr]:\n",
    "        if(ioption not in path):\n",
    "            # haven't explored this location yet\n",
    "            res = dfsB(_adjlist,ioption,goal,depthlim,path.copy(),False,depthcount+1)\n",
    "            if(res==-2):\n",
    "                flag_dplim=True\n",
    "            elif(res!=None):\n",
    "                # have found something, not hit depth limit\n",
    "                return res\n",
    "    if(flag_dplim==True):\n",
    "        return -2 # want to be able to know if failed because hit depth limit\n",
    "    if(iter1):\n",
    "        return -1 # defining different failure modes\n",
    "\n",
    "def ids(adjlist,curr,goal):\n",
    "    ''' iterative deepening '''\n",
    "    dplim = 0\n",
    "    maxdp=4000\n",
    "    res=-2\n",
    "    done = False\n",
    "    while(not done and dplim<maxdp):\n",
    "        res = dfsB(adjlist,curr,goal,dplim)\n",
    "        if(res==-1):\n",
    "            return -1\n",
    "        elif(type(res)==list):\n",
    "            return res\n",
    "        dplim+=1\n",
    "    return -1\n",
    "\n",
    "print('fail (no find):',ids(adj,st,3))\n",
    "print('--------')\n",
    "sol = ids(adj,st,en)\n",
    "print('good:',sol)\n",
    "print(sol)\n",
    "# SUCCESS!!!\n",
    "\n",
    "f,p=plotgrid(grid,loc_start,loc_end)\n",
    "plotans(p,sol,grid)\n"
   ]
  },
  {
   "cell_type": "code",
   "execution_count": 7,
   "metadata": {},
   "outputs": [
    {
     "name": "stdout",
     "output_type": "stream",
     "text": [
      "solved, len: 109\n",
      "alt soln, len: 137\n"
     ]
    },
    {
     "data": {
      "image/png": "[encoded data removed]",
      "text/plain": [
       "<Figure size 288x288 with 1 Axes>"
      ]
     },
     "metadata": {
      "needs_background": "light"
     },
     "output_type": "display_data"
    }
   ],
   "source": [
    "maze=np.array(pil.open('maze4.png').convert('L'))\n",
    "st_loc = [1,1]\n",
    "en_loc = np.array(maze.shape)-2\n",
    "f,p=plotgrid(maze,st_loc,en_loc)\n",
    "\n",
    "st1 = coord2cellnum(st_loc,maze.shape[1])\n",
    "en1 = coord2cellnum(en_loc,maze.shape[1])\n",
    "adj1=makeAdjList(maze)\n",
    "exit\n",
    "# # attempt 1\n",
    "# sol = dfs(adj1,st1,en1)\n",
    "# print(sol)\n",
    "# plotans(p,sol,maze)\n",
    "# attempt 2\n",
    "sol = ids(adj1,st1,en1)\n",
    "if(type(sol)==list):\n",
    "    print('solved, len:',len(sol))\n",
    "    plotans(p,sol,maze)\n",
    "sol2= dfs(adj1,st1,en1)\n",
    "if(type(sol2)==list):\n",
    "    print('alt soln, len:',len(sol2))\n",
    "    plotans(p,sol2,maze,color='red')"
   ]
  },
  {
   "cell_type": "markdown",
   "metadata": {},
   "source": [
    "so, at this point, have developed bfs, dfs, and iterative deepening search (ids). next comes heuristic search, starting with A*"
   ]
  },
  {
   "cell_type": "code",
   "execution_count": 8,
   "metadata": {},
   "outputs": [
    {
     "data": {
      "image/png": "[encoded data removed]",
      "text/plain": [
       "<Figure size 288x288 with 1 Axes>"
      ]
     },
     "metadata": {
      "needs_background": "light"
     },
     "output_type": "display_data"
    }
   ],
   "source": [
    "''' will try to work on heuristic search \n",
    "\n",
    "main thing to keep in mind: heuristics are all about finding a \n",
    "    good solution *fast*. it's not about finding the best solution necessarily, \n",
    "    but instead finding a reasonable one in a short amount of time. This is\n",
    "    important for real-time applications.\n",
    "\n",
    "will go straight to calculating costs and greedy search, then moving \n",
    "    into A* search\n",
    "\n",
    "in this first example, will need to augment \"makeAdjList\" with heuristic values. \n",
    "    will use norm2 distance to target, aka \"pythagorean distance\".\n",
    "\n",
    "for the new function, need goal. for each cell, provide the norm2 distance to \n",
    "    the goal\n",
    "KJG190816: won't need to worry about creating a distance to each new node, since \n",
    "    each movement on the grid is 1 unit. thus, this may be omitted.\n",
    "KJG190816: norm2 dist is always \"<=\" than actual distance, so is called \"admissible\"\n",
    "KJG190816: heuristic eval will be: \n",
    "    f(s) = g(s) + h(s), where:\n",
    "        g(s): sum of costs to current node\n",
    "        h(s): heuristic distance to goal from current node\n",
    "        \n",
    "KJG190816: probably can't use recursion anymore... will need to keep a running list \n",
    "    of stuff, and switch to a new path when the current path becomes too expensive.\n",
    "'''\n",
    "\n",
    "def pyt(p1,p2):\n",
    "    ''' p1,p2: [x,y] locations '''\n",
    "    return ((p2[0]-p1[0])**2+(p2[1]-p1[1])**2)**0.5\n",
    "\n",
    "def makeAdjListHerustics(arr,goal):\n",
    "    ''' create adjacency list \n",
    "    INPUTS: \n",
    "        * arr: 2D grid or maze to use\n",
    "        * goal: (x,y) coordinate of desired end goal\n",
    "    OUTPUT:\n",
    "        * dict: cellnum: [[nextcell0,dist0],[nextcell1,dist1],...]\n",
    "    '''\n",
    "    # will not control for choosing unreachable location, goal can be wherever\n",
    "    _adjList = dict()\n",
    "    w=arr.shape[1]\n",
    "    for i,irow in enumerate(arr):\n",
    "        for j,jcol in enumerate(irow):\n",
    "            if(arr[i,j]!=0):\n",
    "                # not empty\n",
    "                ilist = []\n",
    "                if(canGoInDir(arr,[i,j],0)): # can go up\n",
    "                    cellnum=(i-1)*w+j # future cell location\n",
    "                    d=pyt(goal,[i-1,j])\n",
    "                    ilist.append([cellnum,d]) \n",
    "                if(canGoInDir(arr,[i,j],1)): # right\n",
    "                    cellnum=i*w+(j+1)\n",
    "                    d=pyt(goal,[i,j+1])\n",
    "                    ilist.append([cellnum,d]) \n",
    "                if(canGoInDir(arr,[i,j],2)): # down\n",
    "                    cellnum=(i+1)*w+j\n",
    "                    d=pyt(goal,[i+1,j])\n",
    "                    ilist.append([cellnum,d]) \n",
    "                if(canGoInDir(arr,[i,j],3)): # left\n",
    "                    cellnum=i*w+(j-1)\n",
    "                    d=pyt(goal,[i,j-1])\n",
    "                    ilist.append([cellnum,d])\n",
    "                cellNo = int(i*arr.shape[1]+j)\n",
    "                _adjList[cellNo] = ilist\n",
    "    return _adjList\n",
    "\n",
    "\n",
    "\n",
    "f,p=plotgrid(grid,loc_start,loc_end)\n",
    "adj= makeAdjListHerustics(grid,loc_end)\n"
   ]
  },
  {
   "cell_type": "code",
   "execution_count": 49,
   "metadata": {},
   "outputs": [
    {
     "name": "stdout",
     "output_type": "stream",
     "text": [
      "None [0] 1\n",
      "0 [1, 7] 2\n",
      "1 [2, 7] 2\n",
      "2 [9, 7] 2\n",
      "9 [10, 16, 7] 3\n",
      "solved!\n",
      "[0, 1, 2, 9, 10]\n",
      "{1: 0, 7: 0, 2: 1, 9: 2, 10: 9, 16: 9}\n"
     ]
    },
    {
     "data": {
      "text/plain": [
       "10"
      ]
     },
     "execution_count": 49,
     "metadata": {},
     "output_type": "execute_result"
    }
   ],
   "source": [
    "''' perhaps try defining \"heuristic search\", then working towards A* '''\n",
    "\n",
    "def grabfrom(listvar):\n",
    "    ''' assuming that some list is ordered correctly, \n",
    "    return the first item and return list without that item \n",
    "    KJG190819: may not be necessary, perhaps remove in future\n",
    "    '''\n",
    "    return listvar[0],listvar[1:]\n",
    "\n",
    "def sortin_dfs(oldnodes,newnodes,parent,history_nodes,oldpaths,hist2):\n",
    "    ''' sort in values based on simply putting the first option at the start of the list '''\n",
    "    # part 1: add in new nodes for dfs\n",
    "    nodelist = []\n",
    "    pathlist = []\n",
    "    for inew in newnodes:\n",
    "        if(inew not in history_nodes):\n",
    "            nodelist+=[inew]\n",
    "            ipath=oldpaths[0]+[parent]\n",
    "            pathlist.append(ipath)\n",
    "            hist2[inew]=parent\n",
    "    # part 2: add in old nodes for dfs\n",
    "    nodelist+=oldnodes\n",
    "    pathlist+=oldpaths[1:]\n",
    "    return nodelist,pathlist,hist2\n",
    "\n",
    "def heuristic(adjlist,start,goal):\n",
    "    ''' general \"heuristic search\", following book '''\n",
    "    nodelist=[start] # initialize\n",
    "    hist=[]\n",
    "    hist2=dict()\n",
    "    paths=[[]]\n",
    "    i=0\n",
    "    maxit=10000\n",
    "    inode=None\n",
    "    flag_search = True\n",
    "    while(flag_search):\n",
    "        if(len(nodelist)==0):\n",
    "            print('no solution found')\n",
    "            return None\n",
    "        print(inode,nodelist,len(paths))\n",
    "        inode, nodelist = grabfrom(nodelist)\n",
    "        hist.append(inode)\n",
    "        if(inode==goal):\n",
    "            print('solved!')\n",
    "            print(paths[0]+[goal])\n",
    "            print(hist2)\n",
    "            return goal\n",
    "        nodelist,paths,hist2 = sortin_dfs(nodelist,adjlist[inode],inode,hist,paths,hist2)\n",
    "        i+=1\n",
    "        # import ipdb;ipdb.set_trace()\n",
    "        if(i>=maxit):\n",
    "            print('max iterations reached')\n",
    "            flag_search=False\n",
    "            return None\n",
    "heuristic(adj,st,10)"
   ]
  },
  {
   "cell_type": "code",
   "execution_count": 50,
   "metadata": {},
   "outputs": [],
   "source": [
    "d={1: 0, 7: 0, 2: 1, 9: 2, 10: 9, 16: 9}"
   ]
  },
  {
   "cell_type": "code",
   "execution_count": 59,
   "metadata": {},
   "outputs": [
    {
     "name": "stdout",
     "output_type": "stream",
     "text": [
      "[0, 1, 2, 9, 10]\n"
     ]
    }
   ],
   "source": [
    "a=0\n",
    "b=10\n",
    "loc=b\n",
    "order=[loc]\n",
    "while(loc!=a):\n",
    "    loc=d[loc]\n",
    "    order.insert(0,loc)\n",
    "    \n",
    "print(order)"
   ]
  },
  {
   "cell_type": "code",
   "execution_count": 64,
   "metadata": {},
   "outputs": [
    {
     "data": {
      "text/plain": [
       "True"
      ]
     },
     "execution_count": 64,
     "metadata": {},
     "output_type": "execute_result"
    }
   ],
   "source": [
    "2 in [d[ikey] for ikey in d.keys()]"
   ]
  },
  {
   "cell_type": "markdown",
   "metadata": {},
   "source": [
    "NEED TO CAPITALIZE ON THIS! MAY BE ABLE TO USE DICTIONARY AS A PSEUDO-LINKED LIST IN ORDER TO BOTH KEEP TRACK OF HISTORY AND PATH SOLUTION"
   ]
  },
  {
   "cell_type": "code",
   "execution_count": null,
   "metadata": {},
   "outputs": [],
   "source": []
  }
 ],
 "metadata": {
  "kernelspec": {
   "display_name": "Python 3",
   "language": "python",
   "name": "python3"
  },
  "language_info": {
   "codemirror_mode": {
    "name": "ipython",
    "version": 3
   },
   "file_extension": ".py",
   "mimetype": "text/x-python",
   "name": "python",
   "nbconvert_exporter": "python",
   "pygments_lexer": "ipython3",
   "version": "3.7.1"
  }
 },
 "nbformat": 4,
 "nbformat_minor": 2
}
