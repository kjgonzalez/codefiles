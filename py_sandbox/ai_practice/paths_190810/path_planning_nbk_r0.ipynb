{
 "cells": [
  {
   "cell_type": "code",
   "execution_count": 1,
   "metadata": {},
   "outputs": [],
   "source": [
    "''' \n",
    "datecreated: 190811\n",
    "objective: work on creating a depth-first search and breadth-first search \n",
    "    example here, then transferring back to a python script. using jupyter \n",
    "    notebook because of it's rapid prototyping capability\n",
    "'''\n",
    "\n",
    "import numpy as np\n",
    "import matplotlib.pyplot as plt\n",
    "import time\n",
    "\n",
    "# setup functions\n",
    "def plotgrid(gridarr,start,end,fsize=4):\n",
    "    ''' ensure that plot comes out nicely formatted '''\n",
    "    nrows,ncols = gridarr.shape    \n",
    "    f,p=plt.subplots(figsize=[fsize]*2)\n",
    "    p.imshow(gridarr,cmap='gray')\n",
    "    xticks=np.arange(0,ncols+1)-0.5\n",
    "    yticks=np.arange(0,nrows+1)-0.5\n",
    "    xlims=[xticks.min(),xticks.max()]\n",
    "    ylims=[yticks.min(),yticks.max()]\n",
    "    p.set_xticks(xticks,minor=True)\n",
    "    p.set_yticks(yticks,minor=True)\n",
    "    p.grid(b=True,which='minor')\n",
    "    p.plot(*start[::-1],'ro')\n",
    "    p.plot(*end[::-1],'rx')\n",
    "    return f,p\n",
    "\n",
    "def canGoInDir(arr,coord,direction):\n",
    "    ''' \n",
    "    create a map that says whether a point can go in a given direction. \n",
    "        alternative to making a tree in the typical sense. \n",
    "        only works with orthogonal directions (no diagonals coded here)\n",
    "    '''\n",
    "    row,col=coord\n",
    "    if(direction==0):\n",
    "        # check if can go 'up'\n",
    "        if(row==0): return False # at top row\n",
    "        elif(arr[row-1,col]==0): return False # occupied\n",
    "        else: return True\n",
    "    elif(direction==1): \n",
    "        # check if can go 'right'\n",
    "        if(col==arr.shape[1]-1): return False # at right-most column\n",
    "        elif(arr[row,col+1]==0): return False # occupied\n",
    "        else: return True\n",
    "    elif(direction==2): \n",
    "        # check if can go 'down'\n",
    "        if(row==arr.shape[0]-1): return False # at bottom row\n",
    "        elif(arr[row+1,col]==0): return False # occupied\n",
    "        else: return True\n",
    "    elif(direction==3):\n",
    "        # check if can go 'left'\n",
    "        if(col==0): return False # at left-most column \n",
    "        elif(arr[row,col-1]==0): return False # occupied\n",
    "        else: return True\n",
    "    else: print('error: not a valid direction')\n",
    "\n",
    "def coord2cellnum(coord,gridwidth):\n",
    "    ''' assume coordinate is (row,col) '''\n",
    "    return coord[0]*gridwidth+coord[1]\n",
    "def cellnum2coord(num,gridwidth):\n",
    "    i=1\n",
    "    while(i*gridwidth<=num):i+=1\n",
    "    i-=1\n",
    "    return [i,num-i*gridwidth]\n",
    "def makeAdjList(arr):\n",
    "    ''' create adjacency list '''\n",
    "    adjList = dict()\n",
    "    w=arr.shape[1]\n",
    "    for i,irow in enumerate(arr):\n",
    "        for j,jcol in enumerate(irow):\n",
    "            if(arr[i,j]!=0):\n",
    "                # not empty\n",
    "                ilist = []\n",
    "                if(canGoInDir(arr,[i,j],0)): ilist.append((i-1)*w+j) # can go up\n",
    "                if(canGoInDir(arr,[i,j],1)): ilist.append(i*w+(j+1)) # right\n",
    "                if(canGoInDir(arr,[i,j],2)): ilist.append((i+1)*w+j) # down\n",
    "                if(canGoInDir(arr,[i,j],3)): ilist.append(i*w+(j-1)) # left\n",
    "                cellNo = int(i*arr.shape[1]+j)\n",
    "                adjList[cellNo] = ilist\n",
    "    return adjList\n",
    "def path2coords(pathlist,gridwidth):\n",
    "    w=gridwidth;coords = []\n",
    "    for ipoint in pathlist:\n",
    "        coords.append( cellnum2coord(ipoint,w) )\n",
    "    return coords\n"
   ]
  },
  {
   "cell_type": "code",
   "execution_count": 2,
   "metadata": {
    "scrolled": true
   },
   "outputs": [
    {
     "name": "stdout",
     "output_type": "stream",
     "text": [
      "map created\n",
      "start / end points created\n",
      "adjacency list created\n"
     ]
    }
   ],
   "source": [
    "''' create a desired map and generate accompanying adjacency list '''\n",
    "\n",
    "# grid 1\n",
    "grid=np.ones((4,4))\n",
    "grid[1,2]=0\n",
    "grid[2,2]=0\n",
    "loc_start = [0,0]\n",
    "loc_end   = [3,3]\n",
    "\n",
    "# grid 2\n",
    "grid = np.ones((2,2))\n",
    "loc_start = [0,0]\n",
    "loc_end   = [1,1]\n",
    "grid[0,1] = 0\n",
    "\n",
    "# grid 3\n",
    "grid = np.ones((3,3))\n",
    "grid[1,2]=0\n",
    "loc_start = [0,0]\n",
    "loc_end   = [2,2]\n",
    "\n",
    "# grid 4 (dungeon problem grid)\n",
    "grid = np.ones((5,7))\n",
    "grid[0,3]=0\n",
    "grid[1,1]=0\n",
    "grid[1,5]=0\n",
    "grid[2,1]=0\n",
    "grid[3,2]=0\n",
    "grid[3,3]=0\n",
    "grid[4,0]=0\n",
    "grid[4,2]=0\n",
    "grid[4,5]=0\n",
    "loc_start=[0,0]\n",
    "loc_end  =[4,3] # row/col format\n",
    "\n",
    "print('map created')\n",
    "\n",
    "w=grid.shape[1]\n",
    "st = coord2cellnum(loc_start,w)\n",
    "en = coord2cellnum(loc_end,w)\n",
    "print('start / end points created')\n",
    "\n",
    "adj=makeAdjList(grid)\n",
    "print('adjacency list created')"
   ]
  },
  {
   "cell_type": "code",
   "execution_count": 9,
   "metadata": {},
   "outputs": [
    {
     "name": "stdout",
     "output_type": "stream",
     "text": [
      "[0, 1, 2, 9, 10, 11, 4, 5, 6, 13, 20, 27, 26, 19, 18, 25, 32, 31]\n",
      "mms: 0.0\n"
     ]
    },
    {
     "data": {
      "text/plain": [
       "[<matplotlib.lines.Line2D at 0xb5e3cf0>]"
      ]
     },
     "execution_count": 9,
     "metadata": {},
     "output_type": "execute_result"
    },
    {
     "data": {
      "image/png": "[encoded data removed]",
      "text/plain": [
       "<Figure size 576x576 with 1 Axes>"
      ]
     },
     "metadata": {
      "needs_background": "light"
     },
     "output_type": "display_data"
    }
   ],
   "source": [
    "''' alright, with an adjancency list now created, will iterate through each \n",
    "    node (number) '''\n",
    "def dfs_old(_adjlist,curr,goal,_path=None):\n",
    "    ''' depth-first search. runs recursively. note: need to simplify this code and understand better. '''\n",
    "    status=False\n",
    "    if(_path==None):\n",
    "        _path = []\n",
    "    _path.append(curr)\n",
    "    if(curr==goal):\n",
    "        return True,_path\n",
    "    else:\n",
    "        for ioption in _adjlist[curr]: \n",
    "            if(ioption not in _path):\n",
    "                status,_path = dfs_old(_adjlist,ioption,goal,_path)\n",
    "                if(status==True):\n",
    "                    return status,_path\n",
    "                elif(len(_path)>0):\n",
    "                    _path.pop(-1) # remove incorrect paths\n",
    "    return status,_path\n",
    "\n",
    "t0=time.time()\n",
    "path = dfs_old(adj,st,31)[1]\n",
    "print(path)\n",
    "print('mms:',(time.time()-t0)*1000000)\n",
    "\n",
    "coords=np.array(path2coords(path,grid.shape[1]))\n",
    "x=coords[:,1]\n",
    "y=coords[:,0]\n",
    "f,p=plotgrid(grid,loc_start,loc_end,8)\n",
    "\n",
    "p.plot(x,y,'g-')\n"
   ]
  },
  {
   "cell_type": "code",
   "execution_count": 4,
   "metadata": {},
   "outputs": [],
   "source": [
    "''' bfs with some kind of tracking '''\n",
    "# version1: just see if you can find a solution\n",
    "\n",
    "def bfs(_adjlist,options,goal,history=None,oldoptions=None):\n",
    "    ''' simple attempt at bfs. added \"history\" to properly keep track of where things have been \n",
    "    INPUTS: \n",
    "        * _adjlist: adjacency list. essentially a list of new available paths\n",
    "        * options: starting location. internally, list of current options\n",
    "        * goal: end point to reach.\n",
    "    '''\n",
    "    if(type(options)!=list):\n",
    "        # first iteration\n",
    "        history=[options] # prevent infinite loops\n",
    "        options=[options] # aka current location\n",
    "    else:\n",
    "        history+=options\n",
    "    newoptions=[]\n",
    "    prevoptions=[]\n",
    "    for i,ioption in enumerate(options): # for each currently known option...\n",
    "        if(ioption==goal):\n",
    "            print('solved!')\n",
    "            return [ioption] # return solution\n",
    "        # while generating new paths, remember old ones\n",
    "        for inew in _adjlist[ioption]:\n",
    "            if(inew not in history):\n",
    "                newoptions.append(inew)\n",
    "                prevoptions.append(ioption)\n",
    "    if(len(newoptions)>0):\n",
    "        # can continue\n",
    "        path = bfs(_adjlist,newoptions,goal,history.copy(),prevoptions.copy())\n",
    "        if(type(path)==list):\n",
    "            # if a solution is found, path represents correct item in newoptions\n",
    "            # finding the index of that option leads to the right previous option\n",
    "            iloc=newoptions.index(path[0])\n",
    "            path.insert(0,prevoptions[iloc])\n",
    "            return path\n",
    "    else:\n",
    "        print('no solution found')\n",
    "        return None\n"
   ]
  },
  {
   "cell_type": "code",
   "execution_count": 5,
   "metadata": {},
   "outputs": [
    {
     "name": "stdout",
     "output_type": "stream",
     "text": [
      "no solution found\n",
      "fail test: None\n",
      "--------\n",
      "solved!\n",
      "success: [0, 1, 2, 9, 10, 11, 18, 25, 32, 31]\n"
     ]
    }
   ],
   "source": [
    "# need to figure out how to fail properly with this function\n",
    "print('fail test:',bfs(adj,st,3))\n",
    "print('--------')\n",
    "print('success:',bfs(adj,st,en))\n",
    "# SUCCESS!!!\n",
    "\n",
    "# path = bfs(adj,st,en)\n",
    "\n",
    "# coords=np.array(path2coords(path,w))\n",
    "# f,p=plotgrid(grid,loc_start,loc_end,8)\n",
    "# p.plot(coords[:,1],coords[:,0],'g-')\n"
   ]
  },
  {
   "cell_type": "code",
   "execution_count": 11,
   "metadata": {},
   "outputs": [],
   "source": [
    "''' shit, might actually need to do dfs improvement before moving on. '''\n",
    "\n",
    "def dfs(_adjlist,curr,goal,path=None,iter1=True):\n",
    "    ''' second attempt at more elegant dfs. remember: key is backtracking '''\n",
    "    if(type(path)==type(None)):\n",
    "        # first iteration\n",
    "        path=[]\n",
    "\n",
    "    path.append(curr)\n",
    "    if(curr == goal):\n",
    "        print('solution found')\n",
    "        return path\n",
    "    res=None\n",
    "    for ioption in _adjlist[curr]:\n",
    "        if(ioption not in path):\n",
    "            # haven't explored this location yet\n",
    "            res = dfs2(_adjlist,ioption,goal,path.copy(),iter1=False)\n",
    "            if(res!=None):\n",
    "                # have found something\n",
    "                return res\n",
    "\n",
    "    if(iter1):\n",
    "        print('nothing found')\n",
    "        return None\n",
    "\n"
   ]
  },
  {
   "cell_type": "code",
   "execution_count": 12,
   "metadata": {},
   "outputs": [
    {
     "name": "stdout",
     "output_type": "stream",
     "text": [
      "nothing found\n",
      "fail: None\n",
      "--------\n",
      "solution found\n",
      "good: [0, 1, 2, 9, 10, 11, 4, 5, 6, 13, 20, 27, 26, 19, 18, 25, 32, 31]\n",
      "solution found\n",
      "[0, 1, 2, 9, 10, 11, 4, 5, 6, 13, 20, 27, 26, 19, 18, 25, 32, 31]\n",
      "mms: 0.0\n"
     ]
    },
    {
     "data": {
      "text/plain": [
       "[<matplotlib.lines.Line2D at 0xb5e3d30>]"
      ]
     },
     "execution_count": 12,
     "metadata": {},
     "output_type": "execute_result"
    },
    {
     "data": {
      "image/png": "[encoded data removed]",
      "text/plain": [
       "<Figure size 576x576 with 1 Axes>"
      ]
     },
     "metadata": {
      "needs_background": "light"
     },
     "output_type": "display_data"
    }
   ],
   "source": [
    "print('fail:',dfs(adj,st,3))\n",
    "print('--------')\n",
    "print('good:',dfs(adj,st,en))\n",
    "# SUCCESS!!!\n",
    "\n",
    "t0=time.time()\n",
    "path = dfs(adj,st,31)\n",
    "print(path)\n",
    "print('mms:',(time.time()-t0)*1000000)\n",
    "\n",
    "coords=np.array(path2coords(path,grid.shape[1]))\n",
    "x=coords[:,1]\n",
    "y=coords[:,0]\n",
    "f,p=plotgrid(grid,loc_start,loc_end,8)\n",
    "\n",
    "p.plot(x,y,'g-')"
   ]
  },
  {
   "cell_type": "code",
   "execution_count": 8,
   "metadata": {},
   "outputs": [
    {
     "data": {
      "text/plain": [
       "' at this point, wanna start  '"
      ]
     },
     "execution_count": 8,
     "metadata": {},
     "output_type": "execute_result"
    }
   ],
   "source": [
    "''' at this point, wanna start iterative deepening '''"
   ]
  },
  {
   "cell_type": "code",
   "execution_count": null,
   "metadata": {},
   "outputs": [],
   "source": []
  }
 ],
 "metadata": {
  "kernelspec": {
   "display_name": "Python 3",
   "language": "python",
   "name": "python3"
  },
  "language_info": {
   "codemirror_mode": {
    "name": "ipython",
    "version": 3
   },
   "file_extension": ".py",
   "mimetype": "text/x-python",
   "name": "python",
   "nbconvert_exporter": "python",
   "pygments_lexer": "ipython3",
   "version": "3.7.1"
  }
 },
 "nbformat": 4,
 "nbformat_minor": 2
}
