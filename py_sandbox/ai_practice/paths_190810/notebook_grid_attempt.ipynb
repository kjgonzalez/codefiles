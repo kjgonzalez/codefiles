{
 "cells": [
  {
   "cell_type": "code",
   "execution_count": 40,
   "metadata": {},
   "outputs": [],
   "source": [
    "import numpy as np\n",
    "import matplotlib.pyplot as plt\n",
    "\n",
    "def plotgrid(gridarr,fsize=4):\n",
    "    ''' ensure that plot comes out nicely formatted '''\n",
    "    n = gridarr.shape[0]\n",
    "    f,p=plt.subplots(figsize=[fsize]*2)\n",
    "    p.imshow(gridarr,cmap='gray')\n",
    "    ticks=np.arange(0,n+1)-0.5\n",
    "    lims=[ticks.min(),ticks.max()]\n",
    "    p.set_xticks(ticks,minor=True)\n",
    "    p.set_yticks(ticks,minor=True)\n",
    "    p.grid(b=True,which='minor')\n",
    "#     p.set_ylim(lims)\n",
    "#     p.set_xlim(lims)\n",
    "    return f,p\n",
    "\n",
    "def canGoInDir(arr,coord,direction):\n",
    "    ''' \n",
    "    create a map that says whether a point can go in a given direction. \n",
    "        alternative to making a tree in the typical sense \n",
    "    '''\n",
    "    row,col=coord\n",
    "    if(direction==0):\n",
    "        # check if can go 'up'\n",
    "        if(row==0): return False # at top row\n",
    "        elif(arr[row-1,col]==0): return False # occupied\n",
    "        else: return True\n",
    "    elif(direction==1): \n",
    "        # check if can go 'right'\n",
    "        if(col==arr.shape[1]-1): return False # at right-most column\n",
    "        elif(arr[row,col+1]==0): return False # occupied\n",
    "        else: return True\n",
    "    elif(direction==2): \n",
    "        # check if can go 'down'\n",
    "        if(row==arr.shape[0]-1): return False # at bottom row\n",
    "        elif(arr[row+1,col]==0): return False # occupied\n",
    "        else: return True\n",
    "    elif(direction==3):\n",
    "        # check if can go 'left'\n",
    "        if(col==0): return False # at left-most column \n",
    "        elif(arr[row,col-1]==0): return False # occupied\n",
    "        else: return True\n",
    "    else: print('error: not a valid direction')"
   ]
  },
  {
   "cell_type": "code",
   "execution_count": 41,
   "metadata": {
    "scrolled": true
   },
   "outputs": [],
   "source": [
    "# first, create a random map, and try to make sure that it can always be navigated...\n",
    "# setup simple grid that has one obstacle. start is (0,0), end is (3,3) (default challenge)\n",
    "\n",
    "# grid 1\n",
    "grid=np.ones((4,4))\n",
    "grid[1,2]=0\n",
    "grid[2,2]=0\n",
    "loc_start = [0,0]\n",
    "loc_end   = [3,3]\n",
    "\n",
    "# grid 2\n",
    "grid = np.ones((2,2))\n",
    "loc_start = [0,0]\n",
    "loc_end   = [1,1]\n",
    "grid[0,1] = 0\n",
    "\n",
    "# grid 3\n",
    "grid = np.ones((3,3))\n",
    "grid[1,2]=0\n",
    "loc_start = [0,0]\n",
    "loc_end   = [2,2]\n",
    "\n",
    "# # grid 4 (dungeon problem grid)\n",
    "# grid = np.ones((5,7))\n",
    "# grid[0,3]=0\n",
    "# grid[1,1]=0\n",
    "# grid[1,5]=0\n",
    "# grid[2,1]=0\n",
    "# grid[3,2]=0\n",
    "# grid[3,3]=0\n",
    "# grid[4,0]=0\n",
    "# grid[4,2]=0\n",
    "# grid[4,5]=0\n",
    "\n",
    "# plot the thing\n",
    "\n"
   ]
  },
  {
   "cell_type": "code",
   "execution_count": 42,
   "metadata": {
    "scrolled": true
   },
   "outputs": [
    {
     "name": "stdout",
     "output_type": "stream",
     "text": [
      "0:[1, 3]\n",
      "1:[2, 4, 0]\n",
      "2:[1]\n",
      "3:[0, 4, 6]\n",
      "4:[1, 7, 3]\n",
      "6:[3, 7]\n",
      "7:[4, 8, 6]\n",
      "8:[7]\n"
     ]
    }
   ],
   "source": [
    "''' ok, will try making an adjacency list, and will then iterate through that '''\n",
    "\n",
    "def coord2cellnum(coord,gridwidth):\n",
    "    ''' assume coordinate is (row,col) '''\n",
    "    return coord[0]*gridwidth+coord[1]\n",
    "def cellnum2coord(num,gridwidth):\n",
    "    i=1\n",
    "    while(i*gridwidth<=num):i+=1\n",
    "    i-=1\n",
    "    return [i,num-i*gridwidth]\n",
    "def makeAdjList(arr):\n",
    "    ''' create adjacency list '''\n",
    "    adjList = dict()\n",
    "    w=arr.shape[1]\n",
    "    for i,irow in enumerate(arr):\n",
    "        for j,jcol in enumerate(irow):\n",
    "            if(arr[i,j]!=0):\n",
    "                # not empty\n",
    "                ilist = []\n",
    "                if(canGoInDir(arr,[i,j],0)): ilist.append((i-1)*w+j) # can go up\n",
    "                if(canGoInDir(arr,[i,j],1)): ilist.append(i*w+(j+1)) # right\n",
    "                if(canGoInDir(arr,[i,j],2)): ilist.append((i+1)*w+j) # down\n",
    "                if(canGoInDir(arr,[i,j],3)): ilist.append(i*w+(j-1)) # left\n",
    "                cellNo = int(i*arr.shape[1]+j)\n",
    "                adjList[cellNo] = ilist\n",
    "    return adjList\n",
    "def path2coords(pathlist,gridwidth):\n",
    "    w=gridwidth;coords = []\n",
    "    for ipoint in pathlist:\n",
    "        coords.append( cellnum2coord(ipoint,w) )\n",
    "    return coords\n",
    "\n",
    "def dfs(_adjlist,curr,goal,_path=None):\n",
    "    status=False\n",
    "    if(_path==None):\n",
    "        _path = []\n",
    "    _path.append(curr)\n",
    "    if(curr==goal):\n",
    "        return True,_path\n",
    "    else:\n",
    "        for ioption in _adjlist[curr]: \n",
    "            if(ioption not in _path):\n",
    "                status,_path = dfs(_adjlist,ioption,goal,_path)\n",
    "                if(status==True):\n",
    "                    return status,_path\n",
    "                elif(len(_path)>0):\n",
    "                    _path.pop(-1) # remove incorrect paths\n",
    "    return status,_path\n",
    "\n",
    "\n",
    "adj=makeAdjList(grid)\n",
    "#         cellnames[i,j]=i*grid.shape[1]+j\n",
    "for ikey in adj.keys():\n",
    "    print('{}:{}'.format(ikey,adj[ikey]))\n"
   ]
  },
  {
   "cell_type": "code",
   "execution_count": 48,
   "metadata": {},
   "outputs": [
    {
     "name": "stdout",
     "output_type": "stream",
     "text": [
      "[0, 1, 4, 7, 6]\n"
     ]
    },
    {
     "data": {
      "text/plain": [
       "[<matplotlib.lines.Line2D at 0xeff6b30>]"
      ]
     },
     "execution_count": 48,
     "metadata": {},
     "output_type": "execute_result"
    },
    {
     "data": {
      "image/png": "[encoded data removed]",
      "text/plain": [
       "<Figure size 288x288 with 1 Axes>"
      ]
     },
     "metadata": {
      "needs_background": "light"
     },
     "output_type": "display_data"
    }
   ],
   "source": [
    "''' alright, with an adjancency list now created, will iterate through each \n",
    "    node (number) '''\n",
    "# grid 3\n",
    "grid = np.ones((3,3))\n",
    "grid[1,2]=0\n",
    "loc_start = [0,0]\n",
    "loc_end   = [2,0]\n",
    "st = coord2cellnum(loc_start,3)\n",
    "en = coord2cellnum(loc_end,3)\n",
    "\n",
    "path = dfs(adj,st,en)[1]\n",
    "print(path)\n",
    "\n",
    "coords=np.array(path2coords(path,grid.shape[1]))\n",
    "x=coords[:,1]\n",
    "y=coords[:,0]\n",
    "f,p=plotgrid(grid)\n",
    "\n",
    "p.plot(*loc_start[::-1],'ro')\n",
    "p.plot(*loc_end[::-1],'rx')\n",
    "p.plot(x,y,'g-')\n"
   ]
  },
  {
   "cell_type": "code",
   "execution_count": 5,
   "metadata": {
    "collapsed": true
   },
   "outputs": [
    {
     "data": {
      "text/plain": [
       "['In',\n",
       " 'Out',\n",
       " '_',\n",
       " '_4',\n",
       " '__',\n",
       " '___',\n",
       " '__builtin__',\n",
       " '__builtins__',\n",
       " '__doc__',\n",
       " '__loader__',\n",
       " '__name__',\n",
       " '__package__',\n",
       " '__spec__',\n",
       " '_dh',\n",
       " '_i',\n",
       " '_i1',\n",
       " '_i2',\n",
       " '_i3',\n",
       " '_i4',\n",
       " '_i5',\n",
       " '_ih',\n",
       " '_ii',\n",
       " '_iii',\n",
       " '_oh',\n",
       " 'adj',\n",
       " 'canGoInDir',\n",
       " 'cellnum2coord',\n",
       " 'coord2cellnum',\n",
       " 'coords',\n",
       " 'dfs',\n",
       " 'exit',\n",
       " 'f',\n",
       " 'get_ipython',\n",
       " 'grid',\n",
       " 'ikey',\n",
       " 'loc_end',\n",
       " 'loc_start',\n",
       " 'makeAdjList',\n",
       " 'np',\n",
       " 'p',\n",
       " 'path',\n",
       " 'path2coords',\n",
       " 'plotgrid',\n",
       " 'plt',\n",
       " 'quit',\n",
       " 'rundfs',\n",
       " 'x',\n",
       " 'y']"
      ]
     },
     "execution_count": 5,
     "metadata": {},
     "output_type": "execute_result"
    }
   ],
   "source": [
    "dir()"
   ]
  },
  {
   "cell_type": "code",
   "execution_count": 6,
   "metadata": {},
   "outputs": [
    {
     "ename": "AttributeError",
     "evalue": "'Figure' object has no attribute 'cl'",
     "output_type": "error",
     "traceback": [
      "\u001b[1;31m---------------------------------------------------------------------------\u001b[0m",
      "\u001b[1;31mAttributeError\u001b[0m                            Traceback (most recent call last)",
      "\u001b[1;32m<ipython-input-6-27f89ba99f1c>\u001b[0m in \u001b[0;36m<module>\u001b[1;34m\u001b[0m\n\u001b[1;32m----> 1\u001b[1;33m \u001b[0mf\u001b[0m\u001b[1;33m.\u001b[0m\u001b[0mcl\u001b[0m\u001b[1;33m\u001b[0m\u001b[1;33m\u001b[0m\u001b[0m\n\u001b[0m",
      "\u001b[1;31mAttributeError\u001b[0m: 'Figure' object has no attribute 'cl'"
     ]
    }
   ],
   "source": [
    "f.cl"
   ]
  },
  {
   "cell_type": "code",
   "execution_count": null,
   "metadata": {},
   "outputs": [],
   "source": [
    "a=[]\n",
    "len(a)"
   ]
  },
  {
   "cell_type": "code",
   "execution_count": null,
   "metadata": {},
   "outputs": [],
   "source": [
    "# before figuring things out, make a tree from all the paths\n",
    "# start with loc_start...\n",
    "\n",
    "class MakePoint:\n",
    "    def __init__(self,dirlist):\n",
    "        self.up=dirlist[0]\n",
    "        self.right=dirlist[1]\n",
    "        self.down=dirlist[2]\n",
    "        self.left=dirlist[3]\n",
    "        self.dirs = dirlist\n",
    "\n",
    "def makeTreeGrid(arr):\n",
    "    tree = np.zeros(arr.shape).astype(object)\n",
    "    for i,irow in enumerate(arr):\n",
    "        for j,jcol in enumerate(irow): \n",
    "            if(arr[i,j]!=0):\n",
    "                # grid spot is not occupied\n",
    "                dirs=[canGoInDir(arr,[i,j],idir) for idir in range(4)]\n",
    "                tree[i,j] = MakePoint(dirs)\n",
    "    return tree\n",
    "#                 print('Location ',(i,j))\n",
    "#                 for idir in range(4):\n",
    "#                     print('  dir {}: {}'.format(idir,canGoInDir(grid,[i,j],idir)))\n",
    "tree = makeTreeGrid(grid)\n",
    "for i,irow in enumerate(tree):\n",
    "    for j,jcol in enumerate(irow):\n",
    "        if(tree[i,j]!=0):\n",
    "            print('Location {}: {}'.format((i,j),(tree[i,j].dirs)) )\n"
   ]
  },
  {
   "cell_type": "code",
   "execution_count": null,
   "metadata": {},
   "outputs": [],
   "source": [
    "''' at this point, try to get to goal by taking path '''"
   ]
  },
  {
   "cell_type": "code",
   "execution_count": null,
   "metadata": {},
   "outputs": [],
   "source": [
    "# class MakeTreeGrid:\n",
    "#     def __init__(self,array):\n",
    "        \n",
    "\n",
    "# for i,irow in enumerate(grid):\n",
    "#     for j,jcol in enumerate(irow): \n",
    "#         if(grid[i,j]!=0):\n",
    "#             # grid spot is empty\n",
    "#             print('Location ',(i,j))\n",
    "#             for idir in range(4):\n",
    "#                 print('  dir {}: {}'.format(idir,canGoInDir(grid,[i,j],idir)))\n",
    "# DO NOT DELETE YET\n",
    "# x=np.linspace(0,3)\n",
    "# y=x**2/3\n",
    "# p.plot(x,y,'r')\n",
    "# f # calling it seems to refresh everything in jupyter notebook"
   ]
  },
  {
   "cell_type": "code",
   "execution_count": null,
   "metadata": {},
   "outputs": [],
   "source": []
  }
 ],
 "metadata": {
  "kernelspec": {
   "display_name": "Python 3",
   "language": "python",
   "name": "python3"
  },
  "language_info": {
   "codemirror_mode": {
    "name": "ipython",
    "version": 3
   },
   "file_extension": ".py",
   "mimetype": "text/x-python",
   "name": "python",
   "nbconvert_exporter": "python",
   "pygments_lexer": "ipython3",
   "version": "3.7.1"
  }
 },
 "nbformat": 4,
 "nbformat_minor": 2
}
