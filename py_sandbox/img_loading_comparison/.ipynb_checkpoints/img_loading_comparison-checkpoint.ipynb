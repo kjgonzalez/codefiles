{
 "cells": [
  {
   "cell_type": "code",
   "execution_count": 73,
   "metadata": {},
   "outputs": [
    {
     "name": "stderr",
     "output_type": "stream",
     "text": [
      "/home/iki/.local/lib/python3.5/site-packages/ipykernel_launcher.py:23: DeprecationWarning: `imread` is deprecated!\n",
      "`imread` is deprecated in SciPy 1.0.0, and will be removed in 1.2.0.\n",
      "Use ``imageio.imread`` instead.\n"
     ]
    }
   ],
   "source": [
    "%matplotlib inline\n",
    "'''\n",
    "Author: Kris Gonzalez\n",
    "Objective: make a simple comparison between multiple image loading programs\n",
    "\n",
    "things to compare: \n",
    "order of layers\n",
    "range of values\n",
    "number type\n",
    "'''\n",
    "\n",
    "import PIL.Image as pil\n",
    "import matplotlib.pyplot as plt\n",
    "import cv2\n",
    "import scipy.misc as scp\n",
    "import numpy as np\n",
    "\n",
    "imgfile='colorCheck.png'\n",
    "\n",
    "pil_img=pil.open(imgfile)\n",
    "plt_img=plt.imread(imgfile)\n",
    "cv2_img=cv2.imread(imgfile)\n",
    "scp_img=scp.imread(imgfile)"
   ]
  },
  {
   "cell_type": "code",
   "execution_count": 74,
   "metadata": {
    "scrolled": false
   },
   "outputs": [
    {
     "data": {
      "text/plain": [
       "(-0.5, 203.5, 220.5, -0.5)"
      ]
     },
     "execution_count": 74,
     "metadata": {},
     "output_type": "execute_result"
    },
    {
     "data": {
      "image/png": "[encoded data removed]",
      "text/plain": [
       "<Figure size 720x216 with 4 Axes>"
      ]
     },
     "metadata": {
      "needs_background": "light"
     },
     "output_type": "display_data"
    }
   ],
   "source": [
    "# fig,sub=plt.subplots(2,2,figsize=(8,8))\n",
    "fig,sub=plt.subplots(1,4,figsize=(10,3))\n",
    "\n",
    "sub=np.reshape(sub,(4)) # goes left-right, then down\n",
    "\n",
    "def plotme(name,arr,number):\n",
    "    sub[number].set_title(name)\n",
    "    sub[number].imshow(arr)\n",
    "    sub[number].axis('off')\n",
    "\n",
    "sub[0].set_title('pil')\n",
    "sub[0].imshow(pil_img)\n",
    "sub[0].axis('off')\n",
    "\n",
    "sub[1].set_title('plt')\n",
    "sub[1].imshow(plt_img)\n",
    "sub[1].axis('off')\n",
    "\n",
    "sub[2].set_title('cv2')\n",
    "sub[2].imshow(cv2_img)\n",
    "sub[2].axis('off')\n",
    "\n",
    "sub[3].set_title('scp')\n",
    "sub[3].imshow(scp_img)\n",
    "sub[3].axis('off')\n"
   ]
  },
  {
   "cell_type": "code",
   "execution_count": 75,
   "metadata": {},
   "outputs": [
    {
     "name": "stdout",
     "output_type": "stream",
     "text": [
      "(221, 204, 4)\n"
     ]
    },
    {
     "data": {
      "image/png": "[encoded data removed]",
      "text/plain": [
       "<Figure size 720x216 with 4 Axes>"
      ]
     },
     "metadata": {
      "needs_background": "light"
     },
     "output_type": "display_data"
    }
   ],
   "source": [
    "''' plot individual layers'''\n",
    "fig,sub2=plt.subplots(1,4,figsize=(10,3))\n",
    "# fig,sub2=plt.subplots(1,4)\n",
    "sub2=np.reshape(sub2,(4)) # goes left-right, then down\n",
    "print('image shape:',plt_img.shape)\n",
    "\n",
    "def actOnLayer(arr,layer):\n",
    "    im=np.copy(arr)\n",
    "    im[:,:,layer]=np.zeros(im.shape[:2])\n",
    "    sub2[layer].set_title('Layer{} zeroed'.format(layer))\n",
    "    sub2[layer].imshow(im)\n",
    "    sub2[layer].axis('off')\n",
    "\n",
    "actOnLayer(plt_img,0)\n",
    "actOnLayer(plt_img,1)\n",
    "actOnLayer(plt_img,2)\n",
    "actOnLayer(plt_img,3)"
   ]
  },
  {
   "cell_type": "code",
   "execution_count": 79,
   "metadata": {},
   "outputs": [
    {
     "name": "stdout",
     "output_type": "stream",
     "text": [
      "pil: [0-255],Elem:<class 'numpy.uint8'>,\n",
      "\tArrType:<class 'PIL.PngImagePlugin.PngImageFile'>\n",
      "\n",
      "pil after conversion:\n",
      "pil2: [0-255],Elem:<class 'numpy.uint8'>,\n",
      "\tArrType:<class 'numpy.ndarray'>\n",
      "\n",
      "plt: [0.0-1.0],Elem:<class 'numpy.float32'>,\n",
      "\tArrType:<class 'numpy.ndarray'>\n",
      "\n",
      "cv2: [0-255],Elem:<class 'numpy.uint8'>,\n",
      "\tArrType:<class 'numpy.ndarray'>\n",
      "\n",
      "scp: [0-255],Elem:<class 'numpy.uint8'>,\n",
      "\tArrType:<class 'numpy.ndarray'>\n",
      "\n"
     ]
    }
   ],
   "source": [
    "def printminmax(name,arr):\n",
    "    p_str='{}: [{}-{}],Elem:{},\\n\\tArrType:{}\\n'\n",
    "    print(p_str.format(\n",
    "        name,np.min(arr),np.max(arr),type(np.min(arr)),type(arr)\n",
    "    ))\n",
    "    \n",
    "printminmax('pil',pil_img)\n",
    "print('pil after conversion:')\n",
    "printminmax('pil2',np.array(pil_img))\n",
    "printminmax('plt',plt_img)\n",
    "printminmax('cv2',cv2_img)\n",
    "printminmax('scp',scp_img)"
   ]
  },
  {
   "cell_type": "markdown",
   "metadata": {},
   "source": [
    "# Conclusion\n",
    "Across the different modules compared, these are the results: \n",
    "\n",
    "| Lib | ElemType | Range | LayerOrder | MatType |\n",
    "| ----|----------|-------|------------| ------- |\n",
    "| pil | uint8    | 0-255 | RGB        | PIL*    |\n",
    "| plt | float32  | 0-1.0 | RGB        | numpy   |\n",
    "| cv2 | uint8    | 0-255 | BGR        | numpy   | \n",
    "| scp | uint8    | 0-255 | RGB        | numpy   |\n",
    "\n",
    "\\*note: PIL can be easily converted"
   ]
  },
  {
   "cell_type": "code",
   "execution_count": null,
   "metadata": {},
   "outputs": [],
   "source": []
  }
 ],
 "metadata": {
  "kernelspec": {
   "display_name": "Python 3",
   "language": "python",
   "name": "python3"
  },
  "language_info": {
   "codemirror_mode": {
    "name": "ipython",
    "version": 3
   },
   "file_extension": ".py",
   "mimetype": "text/x-python",
   "name": "python",
   "nbconvert_exporter": "python",
   "pygments_lexer": "ipython3",
   "version": "3.5.2"
  }
 },
 "nbformat": 4,
 "nbformat_minor": 2
}
